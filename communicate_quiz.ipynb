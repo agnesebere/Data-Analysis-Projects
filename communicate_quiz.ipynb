{
 "cells": [
  {
   "cell_type": "code",
   "execution_count": 2,
   "metadata": {},
   "outputs": [],
   "source": [
    "# imports and load data\n",
    "import pandas as pd\n",
    "%matplotlib inline\n",
    "\n",
    "df = pd.read_csv(\"store_data.csv\")"
   ]
  },
  {
   "cell_type": "code",
   "execution_count": 3,
   "metadata": {},
   "outputs": [
    {
     "data": {
      "text/html": [
       "<div>\n",
       "<style scoped>\n",
       "    .dataframe tbody tr th:only-of-type {\n",
       "        vertical-align: middle;\n",
       "    }\n",
       "\n",
       "    .dataframe tbody tr th {\n",
       "        vertical-align: top;\n",
       "    }\n",
       "\n",
       "    .dataframe thead th {\n",
       "        text-align: right;\n",
       "    }\n",
       "</style>\n",
       "<table border=\"1\" class=\"dataframe\">\n",
       "  <thead>\n",
       "    <tr style=\"text-align: right;\">\n",
       "      <th></th>\n",
       "      <th>week</th>\n",
       "      <th>storeA</th>\n",
       "      <th>storeB</th>\n",
       "      <th>storeC</th>\n",
       "      <th>storeD</th>\n",
       "      <th>storeE</th>\n",
       "    </tr>\n",
       "  </thead>\n",
       "  <tbody>\n",
       "    <tr>\n",
       "      <th>0</th>\n",
       "      <td>2014-05-04</td>\n",
       "      <td>2643</td>\n",
       "      <td>8257</td>\n",
       "      <td>3893</td>\n",
       "      <td>6231</td>\n",
       "      <td>1294</td>\n",
       "    </tr>\n",
       "    <tr>\n",
       "      <th>1</th>\n",
       "      <td>2014-05-11</td>\n",
       "      <td>6444</td>\n",
       "      <td>5736</td>\n",
       "      <td>5634</td>\n",
       "      <td>7092</td>\n",
       "      <td>2907</td>\n",
       "    </tr>\n",
       "    <tr>\n",
       "      <th>2</th>\n",
       "      <td>2014-05-18</td>\n",
       "      <td>9646</td>\n",
       "      <td>2552</td>\n",
       "      <td>4253</td>\n",
       "      <td>5447</td>\n",
       "      <td>4736</td>\n",
       "    </tr>\n",
       "    <tr>\n",
       "      <th>3</th>\n",
       "      <td>2014-05-25</td>\n",
       "      <td>5960</td>\n",
       "      <td>10740</td>\n",
       "      <td>8264</td>\n",
       "      <td>6063</td>\n",
       "      <td>949</td>\n",
       "    </tr>\n",
       "    <tr>\n",
       "      <th>4</th>\n",
       "      <td>2014-06-01</td>\n",
       "      <td>7412</td>\n",
       "      <td>7374</td>\n",
       "      <td>3208</td>\n",
       "      <td>3985</td>\n",
       "      <td>3023</td>\n",
       "    </tr>\n",
       "  </tbody>\n",
       "</table>\n",
       "</div>"
      ],
      "text/plain": [
       "         week  storeA  storeB  storeC  storeD  storeE\n",
       "0  2014-05-04    2643    8257    3893    6231    1294\n",
       "1  2014-05-11    6444    5736    5634    7092    2907\n",
       "2  2014-05-18    9646    2552    4253    5447    4736\n",
       "3  2014-05-25    5960   10740    8264    6063     949\n",
       "4  2014-06-01    7412    7374    3208    3985    3023"
      ]
     },
     "execution_count": 3,
     "metadata": {},
     "output_type": "execute_result"
    }
   ],
   "source": [
    "# explore data\n",
    "df.head()"
   ]
  },
  {
   "cell_type": "code",
   "execution_count": 4,
   "metadata": {},
   "outputs": [
    {
     "data": {
      "text/html": [
       "<div>\n",
       "<style scoped>\n",
       "    .dataframe tbody tr th:only-of-type {\n",
       "        vertical-align: middle;\n",
       "    }\n",
       "\n",
       "    .dataframe tbody tr th {\n",
       "        vertical-align: top;\n",
       "    }\n",
       "\n",
       "    .dataframe thead th {\n",
       "        text-align: right;\n",
       "    }\n",
       "</style>\n",
       "<table border=\"1\" class=\"dataframe\">\n",
       "  <thead>\n",
       "    <tr style=\"text-align: right;\">\n",
       "      <th></th>\n",
       "      <th>week</th>\n",
       "      <th>storeA</th>\n",
       "      <th>storeB</th>\n",
       "      <th>storeC</th>\n",
       "      <th>storeD</th>\n",
       "      <th>storeE</th>\n",
       "    </tr>\n",
       "  </thead>\n",
       "  <tbody>\n",
       "    <tr>\n",
       "      <th>195</th>\n",
       "      <td>2018-01-28</td>\n",
       "      <td>282</td>\n",
       "      <td>6351</td>\n",
       "      <td>7759</td>\n",
       "      <td>5558</td>\n",
       "      <td>1028</td>\n",
       "    </tr>\n",
       "    <tr>\n",
       "      <th>196</th>\n",
       "      <td>2018-02-04</td>\n",
       "      <td>4853</td>\n",
       "      <td>6503</td>\n",
       "      <td>4187</td>\n",
       "      <td>5956</td>\n",
       "      <td>1458</td>\n",
       "    </tr>\n",
       "    <tr>\n",
       "      <th>197</th>\n",
       "      <td>2018-02-11</td>\n",
       "      <td>9202</td>\n",
       "      <td>3677</td>\n",
       "      <td>4540</td>\n",
       "      <td>6186</td>\n",
       "      <td>243</td>\n",
       "    </tr>\n",
       "    <tr>\n",
       "      <th>198</th>\n",
       "      <td>2018-02-18</td>\n",
       "      <td>3512</td>\n",
       "      <td>7511</td>\n",
       "      <td>4151</td>\n",
       "      <td>5596</td>\n",
       "      <td>3501</td>\n",
       "    </tr>\n",
       "    <tr>\n",
       "      <th>199</th>\n",
       "      <td>2018-02-25</td>\n",
       "      <td>7560</td>\n",
       "      <td>6904</td>\n",
       "      <td>3569</td>\n",
       "      <td>5045</td>\n",
       "      <td>2585</td>\n",
       "    </tr>\n",
       "  </tbody>\n",
       "</table>\n",
       "</div>"
      ],
      "text/plain": [
       "           week  storeA  storeB  storeC  storeD  storeE\n",
       "195  2018-01-28     282    6351    7759    5558    1028\n",
       "196  2018-02-04    4853    6503    4187    5956    1458\n",
       "197  2018-02-11    9202    3677    4540    6186     243\n",
       "198  2018-02-18    3512    7511    4151    5596    3501\n",
       "199  2018-02-25    7560    6904    3569    5045    2585"
      ]
     },
     "execution_count": 4,
     "metadata": {},
     "output_type": "execute_result"
    }
   ],
   "source": [
    "df.tail()"
   ]
  },
  {
   "cell_type": "code",
   "execution_count": 5,
   "metadata": {},
   "outputs": [
    {
     "name": "stdout",
     "output_type": "stream",
     "text": [
      "<class 'pandas.core.frame.DataFrame'>\n",
      "RangeIndex: 200 entries, 0 to 199\n",
      "Data columns (total 6 columns):\n",
      "week      200 non-null object\n",
      "storeA    200 non-null int64\n",
      "storeB    200 non-null int64\n",
      "storeC    200 non-null int64\n",
      "storeD    200 non-null int64\n",
      "storeE    200 non-null int64\n",
      "dtypes: int64(5), object(1)\n",
      "memory usage: 9.5+ KB\n"
     ]
    }
   ],
   "source": [
    "df.info()"
   ]
  },
  {
   "cell_type": "code",
   "execution_count": 6,
   "metadata": {},
   "outputs": [],
   "source": [
    "df[\"week\"] = pd.to_datetime(df[\"week\"])"
   ]
  },
  {
   "cell_type": "code",
   "execution_count": 7,
   "metadata": {},
   "outputs": [
    {
     "name": "stdout",
     "output_type": "stream",
     "text": [
      "<class 'pandas.core.frame.DataFrame'>\n",
      "RangeIndex: 200 entries, 0 to 199\n",
      "Data columns (total 6 columns):\n",
      "week      200 non-null datetime64[ns]\n",
      "storeA    200 non-null int64\n",
      "storeB    200 non-null int64\n",
      "storeC    200 non-null int64\n",
      "storeD    200 non-null int64\n",
      "storeE    200 non-null int64\n",
      "dtypes: datetime64[ns](1), int64(5)\n",
      "memory usage: 9.5 KB\n"
     ]
    }
   ],
   "source": [
    "df.info()"
   ]
  },
  {
   "cell_type": "code",
   "execution_count": 8,
   "metadata": {},
   "outputs": [
    {
     "data": {
      "text/html": [
       "<div>\n",
       "<style scoped>\n",
       "    .dataframe tbody tr th:only-of-type {\n",
       "        vertical-align: middle;\n",
       "    }\n",
       "\n",
       "    .dataframe tbody tr th {\n",
       "        vertical-align: top;\n",
       "    }\n",
       "\n",
       "    .dataframe thead th {\n",
       "        text-align: right;\n",
       "    }\n",
       "</style>\n",
       "<table border=\"1\" class=\"dataframe\">\n",
       "  <thead>\n",
       "    <tr style=\"text-align: right;\">\n",
       "      <th></th>\n",
       "      <th>week</th>\n",
       "      <th>storeA</th>\n",
       "      <th>storeB</th>\n",
       "      <th>storeC</th>\n",
       "      <th>storeD</th>\n",
       "      <th>storeE</th>\n",
       "    </tr>\n",
       "  </thead>\n",
       "  <tbody>\n",
       "    <tr>\n",
       "      <th>0</th>\n",
       "      <td>2014-05-04</td>\n",
       "      <td>2643</td>\n",
       "      <td>8257</td>\n",
       "      <td>3893</td>\n",
       "      <td>6231</td>\n",
       "      <td>1294</td>\n",
       "    </tr>\n",
       "    <tr>\n",
       "      <th>1</th>\n",
       "      <td>2014-05-11</td>\n",
       "      <td>6444</td>\n",
       "      <td>5736</td>\n",
       "      <td>5634</td>\n",
       "      <td>7092</td>\n",
       "      <td>2907</td>\n",
       "    </tr>\n",
       "    <tr>\n",
       "      <th>2</th>\n",
       "      <td>2014-05-18</td>\n",
       "      <td>9646</td>\n",
       "      <td>2552</td>\n",
       "      <td>4253</td>\n",
       "      <td>5447</td>\n",
       "      <td>4736</td>\n",
       "    </tr>\n",
       "    <tr>\n",
       "      <th>3</th>\n",
       "      <td>2014-05-25</td>\n",
       "      <td>5960</td>\n",
       "      <td>10740</td>\n",
       "      <td>8264</td>\n",
       "      <td>6063</td>\n",
       "      <td>949</td>\n",
       "    </tr>\n",
       "    <tr>\n",
       "      <th>4</th>\n",
       "      <td>2014-06-01</td>\n",
       "      <td>7412</td>\n",
       "      <td>7374</td>\n",
       "      <td>3208</td>\n",
       "      <td>3985</td>\n",
       "      <td>3023</td>\n",
       "    </tr>\n",
       "  </tbody>\n",
       "</table>\n",
       "</div>"
      ],
      "text/plain": [
       "        week  storeA  storeB  storeC  storeD  storeE\n",
       "0 2014-05-04    2643    8257    3893    6231    1294\n",
       "1 2014-05-11    6444    5736    5634    7092    2907\n",
       "2 2014-05-18    9646    2552    4253    5447    4736\n",
       "3 2014-05-25    5960   10740    8264    6063     949\n",
       "4 2014-06-01    7412    7374    3208    3985    3023"
      ]
     },
     "execution_count": 8,
     "metadata": {},
     "output_type": "execute_result"
    }
   ],
   "source": [
    "df.head()"
   ]
  },
  {
   "cell_type": "code",
   "execution_count": 9,
   "metadata": {},
   "outputs": [
    {
     "data": {
      "text/html": [
       "<div>\n",
       "<style scoped>\n",
       "    .dataframe tbody tr th:only-of-type {\n",
       "        vertical-align: middle;\n",
       "    }\n",
       "\n",
       "    .dataframe tbody tr th {\n",
       "        vertical-align: top;\n",
       "    }\n",
       "\n",
       "    .dataframe thead th {\n",
       "        text-align: right;\n",
       "    }\n",
       "</style>\n",
       "<table border=\"1\" class=\"dataframe\">\n",
       "  <thead>\n",
       "    <tr style=\"text-align: right;\">\n",
       "      <th></th>\n",
       "      <th>week</th>\n",
       "      <th>storeA</th>\n",
       "      <th>storeB</th>\n",
       "      <th>storeC</th>\n",
       "      <th>storeD</th>\n",
       "      <th>storeE</th>\n",
       "    </tr>\n",
       "  </thead>\n",
       "  <tbody>\n",
       "    <tr>\n",
       "      <th>195</th>\n",
       "      <td>2018-01-28</td>\n",
       "      <td>282</td>\n",
       "      <td>6351</td>\n",
       "      <td>7759</td>\n",
       "      <td>5558</td>\n",
       "      <td>1028</td>\n",
       "    </tr>\n",
       "    <tr>\n",
       "      <th>196</th>\n",
       "      <td>2018-02-04</td>\n",
       "      <td>4853</td>\n",
       "      <td>6503</td>\n",
       "      <td>4187</td>\n",
       "      <td>5956</td>\n",
       "      <td>1458</td>\n",
       "    </tr>\n",
       "    <tr>\n",
       "      <th>197</th>\n",
       "      <td>2018-02-11</td>\n",
       "      <td>9202</td>\n",
       "      <td>3677</td>\n",
       "      <td>4540</td>\n",
       "      <td>6186</td>\n",
       "      <td>243</td>\n",
       "    </tr>\n",
       "    <tr>\n",
       "      <th>198</th>\n",
       "      <td>2018-02-18</td>\n",
       "      <td>3512</td>\n",
       "      <td>7511</td>\n",
       "      <td>4151</td>\n",
       "      <td>5596</td>\n",
       "      <td>3501</td>\n",
       "    </tr>\n",
       "    <tr>\n",
       "      <th>199</th>\n",
       "      <td>2018-02-25</td>\n",
       "      <td>7560</td>\n",
       "      <td>6904</td>\n",
       "      <td>3569</td>\n",
       "      <td>5045</td>\n",
       "      <td>2585</td>\n",
       "    </tr>\n",
       "  </tbody>\n",
       "</table>\n",
       "</div>"
      ],
      "text/plain": [
       "          week  storeA  storeB  storeC  storeD  storeE\n",
       "195 2018-01-28     282    6351    7759    5558    1028\n",
       "196 2018-02-04    4853    6503    4187    5956    1458\n",
       "197 2018-02-11    9202    3677    4540    6186     243\n",
       "198 2018-02-18    3512    7511    4151    5596    3501\n",
       "199 2018-02-25    7560    6904    3569    5045    2585"
      ]
     },
     "execution_count": 9,
     "metadata": {},
     "output_type": "execute_result"
    }
   ],
   "source": [
    "df.tail()"
   ]
  },
  {
   "cell_type": "code",
   "execution_count": 10,
   "metadata": {},
   "outputs": [
    {
     "data": {
      "text/html": [
       "<div>\n",
       "<style scoped>\n",
       "    .dataframe tbody tr th:only-of-type {\n",
       "        vertical-align: middle;\n",
       "    }\n",
       "\n",
       "    .dataframe tbody tr th {\n",
       "        vertical-align: top;\n",
       "    }\n",
       "\n",
       "    .dataframe thead th {\n",
       "        text-align: right;\n",
       "    }\n",
       "</style>\n",
       "<table border=\"1\" class=\"dataframe\">\n",
       "  <thead>\n",
       "    <tr style=\"text-align: right;\">\n",
       "      <th></th>\n",
       "      <th>storeA</th>\n",
       "      <th>storeB</th>\n",
       "      <th>storeC</th>\n",
       "      <th>storeD</th>\n",
       "      <th>storeE</th>\n",
       "    </tr>\n",
       "  </thead>\n",
       "  <tbody>\n",
       "    <tr>\n",
       "      <th>count</th>\n",
       "      <td>200.000000</td>\n",
       "      <td>200.000000</td>\n",
       "      <td>200.000000</td>\n",
       "      <td>200.000000</td>\n",
       "      <td>200.000000</td>\n",
       "    </tr>\n",
       "    <tr>\n",
       "      <th>mean</th>\n",
       "      <td>5865.480000</td>\n",
       "      <td>6756.710000</td>\n",
       "      <td>4942.105000</td>\n",
       "      <td>5431.405000</td>\n",
       "      <td>2580.025000</td>\n",
       "    </tr>\n",
       "    <tr>\n",
       "      <th>std</th>\n",
       "      <td>2958.230318</td>\n",
       "      <td>3601.339489</td>\n",
       "      <td>1325.407768</td>\n",
       "      <td>1183.111323</td>\n",
       "      <td>1725.651381</td>\n",
       "    </tr>\n",
       "    <tr>\n",
       "      <th>min</th>\n",
       "      <td>137.000000</td>\n",
       "      <td>14.000000</td>\n",
       "      <td>927.000000</td>\n",
       "      <td>2276.000000</td>\n",
       "      <td>39.000000</td>\n",
       "    </tr>\n",
       "    <tr>\n",
       "      <th>25%</th>\n",
       "      <td>3812.250000</td>\n",
       "      <td>3884.500000</td>\n",
       "      <td>4053.500000</td>\n",
       "      <td>4717.000000</td>\n",
       "      <td>1235.000000</td>\n",
       "    </tr>\n",
       "    <tr>\n",
       "      <th>50%</th>\n",
       "      <td>5713.500000</td>\n",
       "      <td>6771.000000</td>\n",
       "      <td>4962.500000</td>\n",
       "      <td>5382.000000</td>\n",
       "      <td>2522.000000</td>\n",
       "    </tr>\n",
       "    <tr>\n",
       "      <th>75%</th>\n",
       "      <td>7662.250000</td>\n",
       "      <td>9350.500000</td>\n",
       "      <td>5801.750000</td>\n",
       "      <td>6243.750000</td>\n",
       "      <td>3574.250000</td>\n",
       "    </tr>\n",
       "    <tr>\n",
       "      <th>max</th>\n",
       "      <td>14403.000000</td>\n",
       "      <td>15841.000000</td>\n",
       "      <td>8293.000000</td>\n",
       "      <td>8190.000000</td>\n",
       "      <td>7553.000000</td>\n",
       "    </tr>\n",
       "  </tbody>\n",
       "</table>\n",
       "</div>"
      ],
      "text/plain": [
       "             storeA        storeB       storeC       storeD       storeE\n",
       "count    200.000000    200.000000   200.000000   200.000000   200.000000\n",
       "mean    5865.480000   6756.710000  4942.105000  5431.405000  2580.025000\n",
       "std     2958.230318   3601.339489  1325.407768  1183.111323  1725.651381\n",
       "min      137.000000     14.000000   927.000000  2276.000000    39.000000\n",
       "25%     3812.250000   3884.500000  4053.500000  4717.000000  1235.000000\n",
       "50%     5713.500000   6771.000000  4962.500000  5382.000000  2522.000000\n",
       "75%     7662.250000   9350.500000  5801.750000  6243.750000  3574.250000\n",
       "max    14403.000000  15841.000000  8293.000000  8190.000000  7553.000000"
      ]
     },
     "execution_count": 10,
     "metadata": {},
     "output_type": "execute_result"
    }
   ],
   "source": [
    "df.describe()"
   ]
  },
  {
   "cell_type": "code",
   "execution_count": 11,
   "metadata": {},
   "outputs": [
    {
     "data": {
      "text/plain": [
       "count      200.000000\n",
       "mean      5865.480000\n",
       "std       2958.230318\n",
       "min        137.000000\n",
       "25%       3812.250000\n",
       "50%       5713.500000\n",
       "75%       7662.250000\n",
       "max      14403.000000\n",
       "Name: storeA, dtype: float64"
      ]
     },
     "execution_count": 11,
     "metadata": {},
     "output_type": "execute_result"
    }
   ],
   "source": [
    "df[\"storeA\"].describe()"
   ]
  },
  {
   "cell_type": "code",
   "execution_count": 12,
   "metadata": {},
   "outputs": [
    {
     "data": {
      "text/html": [
       "<div>\n",
       "<style scoped>\n",
       "    .dataframe tbody tr th:only-of-type {\n",
       "        vertical-align: middle;\n",
       "    }\n",
       "\n",
       "    .dataframe tbody tr th {\n",
       "        vertical-align: top;\n",
       "    }\n",
       "\n",
       "    .dataframe thead th {\n",
       "        text-align: right;\n",
       "    }\n",
       "</style>\n",
       "<table border=\"1\" class=\"dataframe\">\n",
       "  <thead>\n",
       "    <tr style=\"text-align: right;\">\n",
       "      <th></th>\n",
       "      <th>week</th>\n",
       "      <th>storeA</th>\n",
       "      <th>storeB</th>\n",
       "      <th>storeC</th>\n",
       "      <th>storeD</th>\n",
       "      <th>storeE</th>\n",
       "    </tr>\n",
       "  </thead>\n",
       "  <tbody>\n",
       "    <tr>\n",
       "      <th>4</th>\n",
       "      <td>2014-06-01</td>\n",
       "      <td>7412</td>\n",
       "      <td>7374</td>\n",
       "      <td>3208</td>\n",
       "      <td>3985</td>\n",
       "      <td>3023</td>\n",
       "    </tr>\n",
       "  </tbody>\n",
       "</table>\n",
       "</div>"
      ],
      "text/plain": [
       "        week  storeA  storeB  storeC  storeD  storeE\n",
       "4 2014-06-01    7412    7374    3208    3985    3023"
      ]
     },
     "execution_count": 12,
     "metadata": {},
     "output_type": "execute_result"
    }
   ],
   "source": [
    "df[df[\"week\"] == \"2014-06-01\"]"
   ]
  },
  {
   "cell_type": "code",
   "execution_count": 13,
   "metadata": {},
   "outputs": [
    {
     "data": {
      "text/html": [
       "<div>\n",
       "<style scoped>\n",
       "    .dataframe tbody tr th:only-of-type {\n",
       "        vertical-align: middle;\n",
       "    }\n",
       "\n",
       "    .dataframe tbody tr th {\n",
       "        vertical-align: top;\n",
       "    }\n",
       "\n",
       "    .dataframe thead th {\n",
       "        text-align: right;\n",
       "    }\n",
       "</style>\n",
       "<table border=\"1\" class=\"dataframe\">\n",
       "  <thead>\n",
       "    <tr style=\"text-align: right;\">\n",
       "      <th></th>\n",
       "      <th>storeA</th>\n",
       "      <th>storeB</th>\n",
       "      <th>storeC</th>\n",
       "      <th>storeD</th>\n",
       "      <th>storeE</th>\n",
       "    </tr>\n",
       "  </thead>\n",
       "  <tbody>\n",
       "    <tr>\n",
       "      <th>count</th>\n",
       "      <td>5.000000</td>\n",
       "      <td>5.000000</td>\n",
       "      <td>5.000000</td>\n",
       "      <td>5.000000</td>\n",
       "      <td>5.000000</td>\n",
       "    </tr>\n",
       "    <tr>\n",
       "      <th>mean</th>\n",
       "      <td>6421.000000</td>\n",
       "      <td>6931.800000</td>\n",
       "      <td>5050.400000</td>\n",
       "      <td>5763.600000</td>\n",
       "      <td>2581.800000</td>\n",
       "    </tr>\n",
       "    <tr>\n",
       "      <th>std</th>\n",
       "      <td>2543.080809</td>\n",
       "      <td>3044.120103</td>\n",
       "      <td>2002.353191</td>\n",
       "      <td>1155.032813</td>\n",
       "      <td>1521.960479</td>\n",
       "    </tr>\n",
       "    <tr>\n",
       "      <th>min</th>\n",
       "      <td>2643.000000</td>\n",
       "      <td>2552.000000</td>\n",
       "      <td>3208.000000</td>\n",
       "      <td>3985.000000</td>\n",
       "      <td>949.000000</td>\n",
       "    </tr>\n",
       "    <tr>\n",
       "      <th>25%</th>\n",
       "      <td>5960.000000</td>\n",
       "      <td>5736.000000</td>\n",
       "      <td>3893.000000</td>\n",
       "      <td>5447.000000</td>\n",
       "      <td>1294.000000</td>\n",
       "    </tr>\n",
       "    <tr>\n",
       "      <th>50%</th>\n",
       "      <td>6444.000000</td>\n",
       "      <td>7374.000000</td>\n",
       "      <td>4253.000000</td>\n",
       "      <td>6063.000000</td>\n",
       "      <td>2907.000000</td>\n",
       "    </tr>\n",
       "    <tr>\n",
       "      <th>75%</th>\n",
       "      <td>7412.000000</td>\n",
       "      <td>8257.000000</td>\n",
       "      <td>5634.000000</td>\n",
       "      <td>6231.000000</td>\n",
       "      <td>3023.000000</td>\n",
       "    </tr>\n",
       "    <tr>\n",
       "      <th>max</th>\n",
       "      <td>9646.000000</td>\n",
       "      <td>10740.000000</td>\n",
       "      <td>8264.000000</td>\n",
       "      <td>7092.000000</td>\n",
       "      <td>4736.000000</td>\n",
       "    </tr>\n",
       "  </tbody>\n",
       "</table>\n",
       "</div>"
      ],
      "text/plain": [
       "            storeA        storeB       storeC       storeD       storeE\n",
       "count     5.000000      5.000000     5.000000     5.000000     5.000000\n",
       "mean   6421.000000   6931.800000  5050.400000  5763.600000  2581.800000\n",
       "std    2543.080809   3044.120103  2002.353191  1155.032813  1521.960479\n",
       "min    2643.000000   2552.000000  3208.000000  3985.000000   949.000000\n",
       "25%    5960.000000   5736.000000  3893.000000  5447.000000  1294.000000\n",
       "50%    6444.000000   7374.000000  4253.000000  6063.000000  2907.000000\n",
       "75%    7412.000000   8257.000000  5634.000000  6231.000000  3023.000000\n",
       "max    9646.000000  10740.000000  8264.000000  7092.000000  4736.000000"
      ]
     },
     "execution_count": 13,
     "metadata": {},
     "output_type": "execute_result"
    }
   ],
   "source": [
    "df[df[\"week\"] <= \"2014-06-01\"].describe()"
   ]
  },
  {
   "cell_type": "code",
   "execution_count": 14,
   "metadata": {},
   "outputs": [
    {
     "data": {
      "text/plain": [
       "storeA    32105\n",
       "storeB    34659\n",
       "storeC    25252\n",
       "storeD    28818\n",
       "storeE    12909\n",
       "dtype: int64"
      ]
     },
     "execution_count": 14,
     "metadata": {},
     "output_type": "execute_result"
    }
   ],
   "source": [
    "df[df[\"week\"] <= \"2014-06-01\"].sum()"
   ]
  },
  {
   "cell_type": "code",
   "execution_count": 15,
   "metadata": {},
   "outputs": [
    {
     "data": {
      "image/png": "[encoded data removed]",
      "text/plain": [
       "<matplotlib.figure.Figure at 0x7fc4aa78dba8>"
      ]
     },
     "metadata": {
      "needs_background": "light"
     },
     "output_type": "display_data"
    }
   ],
   "source": [
    "df.hist();"
   ]
  },
  {
   "cell_type": "code",
   "execution_count": 16,
   "metadata": {},
   "outputs": [
    {
     "data": {
      "image/png": "[encoded data removed]",
      "text/plain": [
       "<matplotlib.figure.Figure at 0x7fc4a84baf28>"
      ]
     },
     "metadata": {
      "needs_background": "light"
     },
     "output_type": "display_data"
    }
   ],
   "source": [
    "df.hist(figsize=(8,8));"
   ]
  },
  {
   "cell_type": "code",
   "execution_count": null,
   "metadata": {},
   "outputs": [],
   "source": []
  },
  {
   "cell_type": "code",
   "execution_count": null,
   "metadata": {},
   "outputs": [],
   "source": []
  },
  {
   "cell_type": "code",
   "execution_count": 18,
   "metadata": {},
   "outputs": [],
   "source": [
    "# sales for the last month\n",
    "df_last = df[df[\"week\"] >= \"2018-02-01\"]"
   ]
  },
  {
   "cell_type": "code",
   "execution_count": 20,
   "metadata": {},
   "outputs": [
    {
     "data": {
      "text/html": [
       "<div>\n",
       "<style scoped>\n",
       "    .dataframe tbody tr th:only-of-type {\n",
       "        vertical-align: middle;\n",
       "    }\n",
       "\n",
       "    .dataframe tbody tr th {\n",
       "        vertical-align: top;\n",
       "    }\n",
       "\n",
       "    .dataframe thead th {\n",
       "        text-align: right;\n",
       "    }\n",
       "</style>\n",
       "<table border=\"1\" class=\"dataframe\">\n",
       "  <thead>\n",
       "    <tr style=\"text-align: right;\">\n",
       "      <th></th>\n",
       "      <th>week</th>\n",
       "      <th>storeA</th>\n",
       "      <th>storeB</th>\n",
       "      <th>storeC</th>\n",
       "      <th>storeD</th>\n",
       "      <th>storeE</th>\n",
       "    </tr>\n",
       "  </thead>\n",
       "  <tbody>\n",
       "    <tr>\n",
       "      <th>196</th>\n",
       "      <td>2018-02-04</td>\n",
       "      <td>4853</td>\n",
       "      <td>6503</td>\n",
       "      <td>4187</td>\n",
       "      <td>5956</td>\n",
       "      <td>1458</td>\n",
       "    </tr>\n",
       "    <tr>\n",
       "      <th>197</th>\n",
       "      <td>2018-02-11</td>\n",
       "      <td>9202</td>\n",
       "      <td>3677</td>\n",
       "      <td>4540</td>\n",
       "      <td>6186</td>\n",
       "      <td>243</td>\n",
       "    </tr>\n",
       "    <tr>\n",
       "      <th>198</th>\n",
       "      <td>2018-02-18</td>\n",
       "      <td>3512</td>\n",
       "      <td>7511</td>\n",
       "      <td>4151</td>\n",
       "      <td>5596</td>\n",
       "      <td>3501</td>\n",
       "    </tr>\n",
       "    <tr>\n",
       "      <th>199</th>\n",
       "      <td>2018-02-25</td>\n",
       "      <td>7560</td>\n",
       "      <td>6904</td>\n",
       "      <td>3569</td>\n",
       "      <td>5045</td>\n",
       "      <td>2585</td>\n",
       "    </tr>\n",
       "  </tbody>\n",
       "</table>\n",
       "</div>"
      ],
      "text/plain": [
       "          week  storeA  storeB  storeC  storeD  storeE\n",
       "196 2018-02-04    4853    6503    4187    5956    1458\n",
       "197 2018-02-11    9202    3677    4540    6186     243\n",
       "198 2018-02-18    3512    7511    4151    5596    3501\n",
       "199 2018-02-25    7560    6904    3569    5045    2585"
      ]
     },
     "execution_count": 20,
     "metadata": {},
     "output_type": "execute_result"
    }
   ],
   "source": [
    "df_last"
   ]
  },
  {
   "cell_type": "code",
   "execution_count": 25,
   "metadata": {},
   "outputs": [
    {
     "data": {
      "image/png": "[encoded data removed]",
      "text/plain": [
       "<matplotlib.figure.Figure at 0x7fc4a863c5c0>"
      ]
     },
     "metadata": {
      "needs_background": "light"
     },
     "output_type": "display_data"
    }
   ],
   "source": [
    "df_last.sum().plot(kind=\"bar\");"
   ]
  },
  {
   "cell_type": "code",
   "execution_count": 24,
   "metadata": {},
   "outputs": [
    {
     "data": {
      "text/plain": [
       "storeA    25127\n",
       "storeB    24595\n",
       "storeC    16447\n",
       "storeD    22783\n",
       "storeE     7787\n",
       "dtype: int64"
      ]
     },
     "execution_count": 24,
     "metadata": {},
     "output_type": "execute_result"
    }
   ],
   "source": [
    "df_last.sum()"
   ]
  },
  {
   "cell_type": "code",
   "execution_count": 51,
   "metadata": {},
   "outputs": [
    {
     "data": {
      "text/plain": [
       "storeA    5865.480\n",
       "storeB    6756.710\n",
       "storeC    4942.105\n",
       "storeD    5431.405\n",
       "storeE    2580.025\n",
       "dtype: float64"
      ]
     },
     "execution_count": 51,
     "metadata": {},
     "output_type": "execute_result"
    }
   ],
   "source": [
    "# average sales\n",
    "df.mean()"
   ]
  },
  {
   "cell_type": "code",
   "execution_count": 52,
   "metadata": {},
   "outputs": [
    {
     "data": {
      "image/png": "[encoded data removed]",
      "text/plain": [
       "<matplotlib.figure.Figure at 0x7fc4a7e5e828>"
      ]
     },
     "metadata": {
      "needs_background": "light"
     },
     "output_type": "display_data"
    }
   ],
   "source": [
    "df.mean().plot(kind=\"bar\");"
   ]
  },
  {
   "cell_type": "code",
   "execution_count": 53,
   "metadata": {},
   "outputs": [
    {
     "data": {
      "image/png": "[encoded data removed]",
      "text/plain": [
       "<matplotlib.figure.Figure at 0x7fc4a82634a8>"
      ]
     },
     "metadata": {},
     "output_type": "display_data"
    }
   ],
   "source": [
    "df.mean().plot(kind=\"pie\");"
   ]
  },
  {
   "cell_type": "code",
   "execution_count": 39,
   "metadata": {},
   "outputs": [
    {
     "data": {
      "text/html": [
       "<div>\n",
       "<style scoped>\n",
       "    .dataframe tbody tr th:only-of-type {\n",
       "        vertical-align: middle;\n",
       "    }\n",
       "\n",
       "    .dataframe tbody tr th {\n",
       "        vertical-align: top;\n",
       "    }\n",
       "\n",
       "    .dataframe thead th {\n",
       "        text-align: right;\n",
       "    }\n",
       "</style>\n",
       "<table border=\"1\" class=\"dataframe\">\n",
       "  <thead>\n",
       "    <tr style=\"text-align: right;\">\n",
       "      <th></th>\n",
       "      <th>week</th>\n",
       "      <th>storeA</th>\n",
       "      <th>storeB</th>\n",
       "      <th>storeC</th>\n",
       "      <th>storeD</th>\n",
       "      <th>storeE</th>\n",
       "    </tr>\n",
       "  </thead>\n",
       "  <tbody>\n",
       "    <tr>\n",
       "      <th>97</th>\n",
       "      <td>2016-03-13</td>\n",
       "      <td>2054</td>\n",
       "      <td>1390</td>\n",
       "      <td>5112</td>\n",
       "      <td>5513</td>\n",
       "      <td>2536</td>\n",
       "    </tr>\n",
       "  </tbody>\n",
       "</table>\n",
       "</div>"
      ],
      "text/plain": [
       "         week  storeA  storeB  storeC  storeD  storeE\n",
       "97 2016-03-13    2054    1390    5112    5513    2536"
      ]
     },
     "execution_count": 39,
     "metadata": {},
     "output_type": "execute_result"
    }
   ],
   "source": [
    "# sales for the week of March 13th, 2016\n",
    "df_13 = df[df[\"week\"] == \"2016-03-13\"]\n",
    "df_13"
   ]
  },
  {
   "cell_type": "code",
   "execution_count": 57,
   "metadata": {},
   "outputs": [
    {
     "data": {
      "image/png": "[encoded data removed]",
      "text/plain": [
       "<matplotlib.figure.Figure at 0x7fc4d0e8c320>"
      ]
     },
     "metadata": {
      "needs_background": "light"
     },
     "output_type": "display_data"
    }
   ],
   "source": [
    "df_13.iloc[0, 1:].plot(kind=\"bar\");"
   ]
  },
  {
   "cell_type": "code",
   "execution_count": null,
   "metadata": {},
   "outputs": [],
   "source": []
  },
  {
   "cell_type": "code",
   "execution_count": 48,
   "metadata": {},
   "outputs": [
    {
     "data": {
      "text/html": [
       "<div>\n",
       "<style scoped>\n",
       "    .dataframe tbody tr th:only-of-type {\n",
       "        vertical-align: middle;\n",
       "    }\n",
       "\n",
       "    .dataframe tbody tr th {\n",
       "        vertical-align: top;\n",
       "    }\n",
       "\n",
       "    .dataframe thead th {\n",
       "        text-align: right;\n",
       "    }\n",
       "</style>\n",
       "<table border=\"1\" class=\"dataframe\">\n",
       "  <thead>\n",
       "    <tr style=\"text-align: right;\">\n",
       "      <th></th>\n",
       "      <th>week</th>\n",
       "      <th>storeA</th>\n",
       "      <th>storeB</th>\n",
       "      <th>storeC</th>\n",
       "      <th>storeD</th>\n",
       "      <th>storeE</th>\n",
       "    </tr>\n",
       "  </thead>\n",
       "  <tbody>\n",
       "    <tr>\n",
       "      <th>187</th>\n",
       "      <td>2017-12-03</td>\n",
       "      <td>5179</td>\n",
       "      <td>3850</td>\n",
       "      <td>6121</td>\n",
       "      <td>6778</td>\n",
       "      <td>113</td>\n",
       "    </tr>\n",
       "    <tr>\n",
       "      <th>188</th>\n",
       "      <td>2017-12-10</td>\n",
       "      <td>9348</td>\n",
       "      <td>5624</td>\n",
       "      <td>5446</td>\n",
       "      <td>5448</td>\n",
       "      <td>227</td>\n",
       "    </tr>\n",
       "    <tr>\n",
       "      <th>189</th>\n",
       "      <td>2017-12-17</td>\n",
       "      <td>5310</td>\n",
       "      <td>8647</td>\n",
       "      <td>5680</td>\n",
       "      <td>7049</td>\n",
       "      <td>3578</td>\n",
       "    </tr>\n",
       "    <tr>\n",
       "      <th>190</th>\n",
       "      <td>2017-12-24</td>\n",
       "      <td>8976</td>\n",
       "      <td>9503</td>\n",
       "      <td>6240</td>\n",
       "      <td>3882</td>\n",
       "      <td>2890</td>\n",
       "    </tr>\n",
       "    <tr>\n",
       "      <th>191</th>\n",
       "      <td>2017-12-31</td>\n",
       "      <td>11875</td>\n",
       "      <td>1527</td>\n",
       "      <td>6711</td>\n",
       "      <td>5265</td>\n",
       "      <td>1701</td>\n",
       "    </tr>\n",
       "    <tr>\n",
       "      <th>192</th>\n",
       "      <td>2018-01-07</td>\n",
       "      <td>8978</td>\n",
       "      <td>11312</td>\n",
       "      <td>4158</td>\n",
       "      <td>5019</td>\n",
       "      <td>3842</td>\n",
       "    </tr>\n",
       "    <tr>\n",
       "      <th>193</th>\n",
       "      <td>2018-01-14</td>\n",
       "      <td>6963</td>\n",
       "      <td>4014</td>\n",
       "      <td>4215</td>\n",
       "      <td>7153</td>\n",
       "      <td>3097</td>\n",
       "    </tr>\n",
       "    <tr>\n",
       "      <th>194</th>\n",
       "      <td>2018-01-21</td>\n",
       "      <td>5553</td>\n",
       "      <td>3971</td>\n",
       "      <td>3761</td>\n",
       "      <td>6255</td>\n",
       "      <td>3071</td>\n",
       "    </tr>\n",
       "    <tr>\n",
       "      <th>195</th>\n",
       "      <td>2018-01-28</td>\n",
       "      <td>282</td>\n",
       "      <td>6351</td>\n",
       "      <td>7759</td>\n",
       "      <td>5558</td>\n",
       "      <td>1028</td>\n",
       "    </tr>\n",
       "    <tr>\n",
       "      <th>196</th>\n",
       "      <td>2018-02-04</td>\n",
       "      <td>4853</td>\n",
       "      <td>6503</td>\n",
       "      <td>4187</td>\n",
       "      <td>5956</td>\n",
       "      <td>1458</td>\n",
       "    </tr>\n",
       "    <tr>\n",
       "      <th>197</th>\n",
       "      <td>2018-02-11</td>\n",
       "      <td>9202</td>\n",
       "      <td>3677</td>\n",
       "      <td>4540</td>\n",
       "      <td>6186</td>\n",
       "      <td>243</td>\n",
       "    </tr>\n",
       "    <tr>\n",
       "      <th>198</th>\n",
       "      <td>2018-02-18</td>\n",
       "      <td>3512</td>\n",
       "      <td>7511</td>\n",
       "      <td>4151</td>\n",
       "      <td>5596</td>\n",
       "      <td>3501</td>\n",
       "    </tr>\n",
       "    <tr>\n",
       "      <th>199</th>\n",
       "      <td>2018-02-25</td>\n",
       "      <td>7560</td>\n",
       "      <td>6904</td>\n",
       "      <td>3569</td>\n",
       "      <td>5045</td>\n",
       "      <td>2585</td>\n",
       "    </tr>\n",
       "  </tbody>\n",
       "</table>\n",
       "</div>"
      ],
      "text/plain": [
       "          week  storeA  storeB  storeC  storeD  storeE\n",
       "187 2017-12-03    5179    3850    6121    6778     113\n",
       "188 2017-12-10    9348    5624    5446    5448     227\n",
       "189 2017-12-17    5310    8647    5680    7049    3578\n",
       "190 2017-12-24    8976    9503    6240    3882    2890\n",
       "191 2017-12-31   11875    1527    6711    5265    1701\n",
       "192 2018-01-07    8978   11312    4158    5019    3842\n",
       "193 2018-01-14    6963    4014    4215    7153    3097\n",
       "194 2018-01-21    5553    3971    3761    6255    3071\n",
       "195 2018-01-28     282    6351    7759    5558    1028\n",
       "196 2018-02-04    4853    6503    4187    5956    1458\n",
       "197 2018-02-11    9202    3677    4540    6186     243\n",
       "198 2018-02-18    3512    7511    4151    5596    3501\n",
       "199 2018-02-25    7560    6904    3569    5045    2585"
      ]
     },
     "execution_count": 48,
     "metadata": {},
     "output_type": "execute_result"
    }
   ],
   "source": [
    "# share of sales for the latest 3-month periods\n",
    "df_latest = df[df[\"week\"] >= \"2017-12-01\"]\n",
    "df_latest"
   ]
  },
  {
   "cell_type": "code",
   "execution_count": 50,
   "metadata": {},
   "outputs": [
    {
     "data": {
      "image/png": "[encoded data removed]",
      "text/plain": [
       "<matplotlib.figure.Figure at 0x7fc4a7e58780>"
      ]
     },
     "metadata": {},
     "output_type": "display_data"
    }
   ],
   "source": [
    "df_latest.sum().plot(kind=\"pie\");"
   ]
  },
  {
   "cell_type": "code",
   "execution_count": null,
   "metadata": {},
   "outputs": [],
   "source": []
  }
 ],
 "metadata": {
  "kernelspec": {
   "display_name": "Python 3",
   "language": "python",
   "name": "python3"
  },
  "language_info": {
   "codemirror_mode": {
    "name": "ipython",
    "version": 3
   },
   "file_extension": ".py",
   "mimetype": "text/x-python",
   "name": "python",
   "nbconvert_exporter": "python",
   "pygments_lexer": "ipython3",
   "version": "3.6.3"
  }
 },
 "nbformat": 4,
 "nbformat_minor": 2
}
